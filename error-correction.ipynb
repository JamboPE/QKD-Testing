{
 "cells": [
  {
   "cell_type": "markdown",
   "metadata": {},
   "source": [
    "<h1>Cascade Error Correction Protocol</h1>\n",
    "<hr>\n",
    "<i>Written by Jamie</i><br>\n",
    "<p style=\"margin-bottom:1.5cm;\">This script is to test how to implement the error correction protocol <a href=\"https://link.springer.com/chapter/10.1007/3-540-48285-7_35\">cascade</a> into the quantum key distribution visualisation and basic simulation script \"<i>quantum-key-distro.ipynb</i>\".</p>\n",
    "\n",
    "<h3>Import packages</h3>\n",
    "<hr>\n",
    "<p>Import python packages: <a href=\"https://pypi.org/project/random2/\">random</a> and the <a href=\"https://pypi.org/project/tabulate/\">tabulate</a> module from the library that shares its name."
   ]
  },
  {
   "cell_type": "code",
   "execution_count": 469,
   "metadata": {},
   "outputs": [],
   "source": [
    "import random\n",
    "from tabulate import tabulate"
   ]
  },
  {
   "cell_type": "markdown",
   "metadata": {},
   "source": [
    "<h3>Properties of Transaction</h3>\n",
    "<hr> \n",
    "<p>\n",
    "    Prompt the user for numerical inputs for:\n",
    "    <ul>\n",
    "        <li>The length in bits of the random string being generated and sent by the sender \"Alice\".</li>\n",
    "        <li>Probability of an incorrect bit being received by the receiver \"Bob\" due to noise in the system, also known as the error rate.</li>\n",
    "    </ul>\n",
    "    And run input validation on these user inputs to ensure that they are in the correct format so the program doesn't break later on. If the input validation fails, ask the user for the input again, providing the reason why the input was not sufficient.\n",
    "</p>"
   ]
  },
  {
   "cell_type": "code",
   "execution_count": 470,
   "metadata": {},
   "outputs": [
    {
     "name": "stdout",
     "output_type": "stream",
     "text": [
      "Number of random bits: 16\n",
      "Probability of an incorrect bit being received due to noise (error rate): 50%\n"
     ]
    }
   ],
   "source": [
    "## Number of random bits\n",
    "no_bits=input(\"Number of random bits: \")\n",
    "valid=False\n",
    "while valid == False: # Input validation\n",
    "    try:\n",
    "        no_bits=int(no_bits)\n",
    "    except:\n",
    "        no_bits=input(\"-----\\nError: Value must be a number\\nNumber of random bits: \")\n",
    "    else:\n",
    "        if no_bits <= 0:\n",
    "            no_bits=input(\"-----\\nError: Value must be above 0\\nNumber of random bits: \")\n",
    "        else:\n",
    "            valid=True\n",
    "print (\"Number of random bits: \"+str(no_bits)) # Print value for debugging or later reference\n",
    "\n",
    "## Probability of an incorrect bit being received due to noise (error rate)\n",
    "error_rate=input(\"Probability of an incorrect bit being received due to noise (error rate) [%]: \")\n",
    "valid=False\n",
    "while valid == False: # Input validation\n",
    "    try:\n",
    "        error_rate=int(error_rate)\n",
    "    except:\n",
    "        error_rate=input(\"-----\\nError: Value must be a number\\nProbability of an incorrect bit being received due to noise (error rate) [%]: \")\n",
    "    else:\n",
    "        if error_rate > 100 or error_rate < 0:\n",
    "            error_rate=input(\"-----\\nError: Value must be between 0 and 100\\nProbability of an incorrect bit being received due to noise (error rate) [%]: \")\n",
    "        else:\n",
    "            valid=True\n",
    "print (\"Probability of an incorrect bit being received due to noise (error rate): \"+str(error_rate)+\"%\") # Print value for debugging or later reference"
   ]
  },
  {
   "cell_type": "markdown",
   "metadata": {},
   "source": [
    "<h3>Define functions</h3>\n",
    "<hr>\n",
    "<p>To reduce code sprawl and to make life easier for programming, a number of functions are defined that can be recalled by the program later.<br>\n",
    "These include:\n",
    "<ul>\n",
    "    <li>A function to convert strings to arrays which is used to convert the randomly generated strings of 0s and 1s or Ds and Rs into arrays that are easy to preform calculations on.</li>\n",
    "    <li>A function to convert arrays to strings which is helpful in debugging/user output to print out easier-to-read strings of values in arrays, without the square brackets and commas.</li>\n",
    "    <li>A function to generate a random array of 1s and 0s that is as long as the integer inputted into the function (used for making Alice's random sending bits).</li>\n",
    "    <li>A function to generate a random array of Ds and Rs that is as long as the integer inputted into the function (used for making Alice and Bob's encoding and decoding bases).</li>\n",
    "    <li>A function that returns true or false with a probability of the integer that is inputted into it (used for making a percentage of the photons get lost in transmission and for making a percentage of the received bits contain errors).</li>\n",
    "</ul>\n",
    "</p>"
   ]
  },
  {
   "cell_type": "code",
   "execution_count": 471,
   "metadata": {},
   "outputs": [],
   "source": [
    "def string_to_array(string): # Used for user display purposes to convert each character in a string to entries in an array\n",
    "    array=[]\n",
    "    for i in string: # iterate through each character in the string\n",
    "        array.append(i) # append each character to the array\n",
    "    return array\n",
    "\n",
    "def array_to_string(array): # Used for user display purposes to convert each entry in an array to characters in a string\n",
    "    string=\"\"\n",
    "    for i in array: # iterate through each entry in the array\n",
    "        string = string + i # append each entry to the string\n",
    "    return string\n",
    "\n",
    "def generate_random_bits(length): # Used to generate a random array of 1s and 0s of a given length\n",
    "    binary_string = ''.join(random.choice('01') for _ in range(length)) # generate a random string of 1s and 0s of a given length\n",
    "    return string_to_array(binary_string) # Convert the string to an array and return it\n",
    "\n",
    "def generate_random_bases(length): # Used to generate a random array of Ds and Rs of a given length\n",
    "    bases_string = ''.join(random.choice('DR') for _ in range(length)) # generate a random string of Ds and Rs of a given length\n",
    "    return string_to_array(bases_string) # Convert the string to an array and return it\n",
    "\n",
    "def test_percentage(prob): # Essentially a coin flip with a given probability, has the given probability of returning true \n",
    "    # generate a random float between 0 and 1\n",
    "    if random.random() < (prob/100): # if the float is less than the probability as a decimal, return true\n",
    "        return True\n",
    "    else: # otherwise, return false\n",
    "        return False\n",
    "    \n",
    "def parity_sum(array): # Used to calculate the sum of all entries in an array\n",
    "    total=0\n",
    "    for i in array: # iterate through each entry in the array\n",
    "        i = int(i)\n",
    "        total=total+i # add each entry to the total\n",
    "        if total == 2: # binary addition, so if the total is 2, set it to 0\n",
    "            total=0\n",
    "    return total\n",
    "\n",
    "def split_array(array1, array2): # Used to split two arrays into two halves\n",
    "    low_array1=[]\n",
    "    up_array1=[]\n",
    "    low_array2=[]\n",
    "    up_array2=[]\n",
    "    LB=0 # set the lower bound to 0\n",
    "    UB=len(array1)-1 # set the upper bound to the length of the array minus 1\n",
    "    mid=(LB+UB)//2 # find the middle index\n",
    "    for i in range(0,len(array1)):\n",
    "        if i <= mid:\n",
    "            low_array1.append(array1[i])\n",
    "            low_array2.append(array2[i])\n",
    "        else:\n",
    "            up_array1.append(array1[i])\n",
    "            up_array2.append(array2[i])\n",
    "    if len(up_array1) != len(up_array2) or len(low_array1) != len(low_array2) or parity_sum(low_array1) == parity_sum(low_array2) and parity_sum(up_array1) == parity_sum(up_array2):\n",
    "        return \"split_array() Error: The lengths of the arrays are not equal or the parity sums of the arrays are equal\"\n",
    "    elif parity_sum(low_array1) != parity_sum(low_array2) and parity_sum(up_array1) == parity_sum(up_array2):\n",
    "        return [low_array1, low_array2, \"low\"]\n",
    "    elif parity_sum(low_array1) == parity_sum(low_array2) and parity_sum(up_array1) != parity_sum(up_array2):\n",
    "        return [up_array1, up_array2, \"up\"]\n",
    "    else:\n",
    "        return \"Error\"\n",
    "\n",
    "\n",
    "bounds=[]\n",
    "def cascade(correct_array, incorrect_array):\n",
    "    global split_arrays\n",
    "    split_arrays=[]\n",
    "    global split_arrays2\n",
    "    split_arrays2=[]\n",
    "    global bounds\n",
    "    bounds=[]\n",
    "    while len(correct_array) != 1:\n",
    "        both_arrays = split_array(correct_array, incorrect_array)\n",
    "        correct_array = both_arrays[0]\n",
    "        incorrect_array = both_arrays[1]\n",
    "        if both_arrays[2] == \"low\":\n",
    "            bounds.append(\"low\")\n",
    "        elif both_arrays[2] == \"up\":\n",
    "            bounds.append(\"up\")\n",
    "        else:\n",
    "            return \"Error\"\n",
    "        split_arrays.append(produce_neat_array(incorrect_array, bounds, \"Bob\"))\n",
    "        split_arrays2.append(produce_neat_array(correct_array, bounds, \"Alice\"))\n",
    "    return(incorrect_array)\n",
    "\n",
    "def produce_neat_array(array, bounds, person):\n",
    "    if person == \"Alice\":\n",
    "        neat_array = [\"Alice\"]\n",
    "    if person == \"Bob\":\n",
    "        neat_array = [\"Bob\"]\n",
    "    length = no_bits\n",
    "    for i in bounds:\n",
    "        if i == \"up\":\n",
    "            length = length - (length//2)\n",
    "            for j in range(0,length):\n",
    "                neat_array.append(\"\")\n",
    "        elif i == \"low\":\n",
    "            length = length - (length//2)\n",
    "    for i in array:\n",
    "        neat_array.append(i)\n",
    "    for i in range(0,no_bits-len(neat_array)):\n",
    "        neat_array.append(\"\")\n",
    "    neat_array.append(\"\")\n",
    "    neat_array.append(\"\")\n",
    "    return neat_array"
   ]
  },
  {
   "cell_type": "markdown",
   "metadata": {},
   "source": [
    "<h3>Generate Bits With Errors</h3>\n",
    "<hr>\n",
    "<p>\n",
    "    <ul>\n",
    "        <li>Generate a random string of bits (1s and 0s) for Alice.</li>\n",
    "        <li>Copy Alice's bits to Bob's and apply the error rate probability to each bit to produce a string with errors</li>\n",
    "    </ul>\n",
    "</p>"
   ]
  },
  {
   "cell_type": "code",
   "execution_count": 472,
   "metadata": {},
   "outputs": [],
   "source": [
    "## Alice's bits\n",
    "alice_bits=generate_random_bits(no_bits) # Generate Alice's random bits\n",
    "\n",
    "## Bob's bits\n",
    "bob_bits=[] # Initialise Bob's bits array\n",
    "error_array=[] # Initialise error array for user display purposes\n",
    "no_errors=0 \n",
    "for bit in alice_bits: # iterate through each bit in Alice's bits\n",
    "    if test_percentage(error_rate) == True: # if an error occurs in transmission, flip the bit\n",
    "            if bit == \"1\":\n",
    "                bob_bits.append(\"0\")\n",
    "            elif bit == \"0\":\n",
    "                bob_bits.append(\"1\")\n",
    "            else:\n",
    "                print(\"Error: alice bit is not 1 or 0\") # Error message for debugging\n",
    "            error_array.append(\"X\")\n",
    "            no_errors+=1\n",
    "    else: # otherwise, append the bit to Bob's bits array\n",
    "        bob_bits.append(bit)\n",
    "        error_array.append(\"\")"
   ]
  },
  {
   "cell_type": "markdown",
   "metadata": {},
   "source": [
    "<h3>The Cascade Protocol Itself</h3>\n",
    "<hr>\n",
    "<p>This is where the cascade protocol is started, the parity sum of both Alice and Bob's bits are calculated and if they are different, a binary search for the error bit is started."
   ]
  },
  {
   "cell_type": "code",
   "execution_count": 473,
   "metadata": {},
   "outputs": [],
   "source": [
    "alice_parity, bob_parity = parity_sum(alice_bits), parity_sum(bob_bits) # Calculate the parity of Alice's and Bob's bits\n",
    "if alice_parity == bob_parity: # If the parity of Alice's and Bob's bits are the same, do not use the cascade method\n",
    "    print(\"Parity of Alice's bits: \"+str(alice_parity)+\"\\nParity of Bob's bits: \"+str(bob_parity)+\"\\nParity is the same, no cascade method required\")\n",
    "else:\n",
    "    wrong_bit=cascade(alice_bits,bob_bits) # Otherwise, use the cascade method to find the error"
   ]
  },
  {
   "cell_type": "markdown",
   "metadata": {},
   "source": [
    "<h3>Display Each Stage in a Table</h3>\n",
    "<hr>\n",
    "<p>A label is inserted at the start of each array so that it is labelled in the table then each stage of the Cascade Protocol (represented by the data from that stage in an array) is combined into a 2D array and then displayed as a table for easy viewing of how the protocol produced corrected errors in a stage-by-stage manner.</p>"
   ]
  },
  {
   "cell_type": "code",
   "execution_count": 474,
   "metadata": {},
   "outputs": [
    {
     "name": "stdout",
     "output_type": "stream",
     "text": [
      "\u001b[1m\u001b[4mError Correction - Cascade Protocol\u001b[0m\u001b[0m\n",
      "┌──────────────┬───┬───┬───┬───┬───┬───┬───┬───┬───┬───┬───┬───┬───┬───┬───┬───┬───────────────┬────┐\n",
      "│ Alice's bits │ 0 │ 1 │ 1 │ 1 │ 1 │ 0 │ 0 │ 1 │ 1 │ 1 │ 0 │ 0 │ 0 │ 0 │ 0 │ 0 │ Parity Value: │  1 │\n",
      "├──────────────┼───┼───┼───┼───┼───┼───┼───┼───┼───┼───┼───┼───┼───┼───┼───┼───┼───────────────┼────┤\n",
      "│ Bob's bits   │ 1 │ 1 │ 0 │ 0 │ 0 │ 1 │ 1 │ 0 │ 0 │ 0 │ 1 │ 0 │ 1 │ 1 │ 0 │ 1 │ Parity Value: │  0 │\n",
      "├──────────────┼───┼───┼───┼───┼───┼───┼───┼───┼───┼───┼───┼───┼───┼───┼───┼───┼───────────────┼────┤\n",
      "│ Error?       │ X │   │ X │ X │ X │ X │ X │ X │ X │ X │ X │   │ X │ X │   │ X │ Total Errors: │ 13 │\n",
      "├──────────────┼───┼───┼───┼───┼───┼───┼───┼───┼───┼───┼───┼───┼───┼───┼───┼───┼───────────────┼────┤\n",
      "│ Alice        │ 0 │ 1 │ 1 │ 1 │ 1 │ 0 │ 0 │ 1 │   │   │   │   │   │   │   │   │               │    │\n",
      "├──────────────┼───┼───┼───┼───┼───┼───┼───┼───┼───┼───┼───┼───┼───┼───┼───┼───┼───────────────┼────┤\n",
      "│ Bob          │ 1 │ 1 │ 0 │ 0 │ 0 │ 1 │ 1 │ 0 │   │   │   │   │   │   │   │   │               │    │\n",
      "├──────────────┼───┼───┼───┼───┼───┼───┼───┼───┼───┼───┼───┼───┼───┼───┼───┼───┼───────────────┼────┤\n",
      "│ Alice        │ 0 │ 1 │ 1 │ 1 │   │   │   │   │   │   │   │   │   │   │   │   │               │    │\n",
      "├──────────────┼───┼───┼───┼───┼───┼───┼───┼───┼───┼───┼───┼───┼───┼───┼───┼───┼───────────────┼────┤\n",
      "│ Bob          │ 1 │ 1 │ 0 │ 0 │   │   │   │   │   │   │   │   │   │   │   │   │               │    │\n",
      "├──────────────┼───┼───┼───┼───┼───┼───┼───┼───┼───┼───┼───┼───┼───┼───┼───┼───┼───────────────┼────┤\n",
      "│ Alice        │ 0 │ 1 │   │   │   │   │   │   │   │   │   │   │   │   │   │   │               │    │\n",
      "├──────────────┼───┼───┼───┼───┼───┼───┼───┼───┼───┼───┼───┼───┼───┼───┼───┼───┼───────────────┼────┤\n",
      "│ Bob          │ 1 │ 1 │   │   │   │   │   │   │   │   │   │   │   │   │   │   │               │    │\n",
      "├──────────────┼───┼───┼───┼───┼───┼───┼───┼───┼───┼───┼───┼───┼───┼───┼───┼───┼───────────────┼────┤\n",
      "│ Alice        │ 0 │   │   │   │   │   │   │   │   │   │   │   │   │   │   │   │               │    │\n",
      "├──────────────┼───┼───┼───┼───┼───┼───┼───┼───┼───┼───┼───┼───┼───┼───┼───┼───┼───────────────┼────┤\n",
      "│ Bob          │ 1 │   │   │   │   │   │   │   │   │   │   │   │   │   │   │   │               │    │\n",
      "└──────────────┴───┴───┴───┴───┴───┴───┴───┴───┴───┴───┴───┴───┴───┴───┴───┴───┴───────────────┴────┘\n",
      "Error rate: 81.25%\n",
      "Parity bits: 8\n"
     ]
    }
   ],
   "source": [
    "print(\"\\033[1m\"+ \"\\033[4m\" + \"Error Correction - Cascade Protocol\" + \"\\033[0m\" + \"\\033[0m\") # bold and underline table title\n",
    "# Add label to each array for tabulation\n",
    "alice_bits.insert(0,'Alice\\'s bits')\n",
    "alice_bits.append('Parity Value:')\n",
    "alice_bits.append(alice_parity)\n",
    "bob_bits.insert(0,'Bob\\'s bits')\n",
    "bob_bits.append('Parity Value:')\n",
    "bob_bits.append(bob_parity)\n",
    "error_array.insert(0, 'Error?')\n",
    "error_array.append('Total Errors:')\n",
    "error_array.append(no_errors)\n",
    "data = [alice_bits,bob_bits,error_array]\n",
    "for i in range(0,len(split_arrays)):\n",
    "    data.append(split_arrays2[i])\n",
    "    data.append(split_arrays[i])\n",
    "print(tabulate(data, tablefmt=\"simple_grid\")) # Print table\n",
    "# Remove labels from each array so they can be used for further calculations\n",
    "for array in data:\n",
    "    if array == alice_bits or array == bob_bits or array == error_array:\n",
    "        array.pop(0)\n",
    "        array.pop(-1)\n",
    "        array.pop(-1)\n",
    "print(\"Error rate: \"+str(no_errors/no_bits*100)+\"%\") # Print error rate\n",
    "print(\"Parity bits:\", len(split_arrays)*2) # Print number of parity bits"
   ]
  },
  {
   "cell_type": "markdown",
   "metadata": {},
   "source": [
    "<h3>Cascade Protocol</h3>\n",
    "<hr>\n",
    "<p>Cascade uses a very similar process to a binary search to split the strings in half and search for the error"
   ]
  }
 ],
 "metadata": {
  "kernelspec": {
   "display_name": "Python 3",
   "language": "python",
   "name": "python3"
  },
  "language_info": {
   "codemirror_mode": {
    "name": "ipython",
    "version": 3
   },
   "file_extension": ".py",
   "mimetype": "text/x-python",
   "name": "python",
   "nbconvert_exporter": "python",
   "pygments_lexer": "ipython3",
   "version": "3.11.6"
  }
 },
 "nbformat": 4,
 "nbformat_minor": 2
}
