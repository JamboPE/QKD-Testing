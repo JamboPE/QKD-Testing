{
 "cells": [
  {
   "cell_type": "markdown",
   "metadata": {},
   "source": [
    "Import packages:"
   ]
  },
  {
   "cell_type": "code",
   "execution_count": 20,
   "metadata": {},
   "outputs": [],
   "source": [
    "import random"
   ]
  },
  {
   "cell_type": "markdown",
   "metadata": {},
   "source": [
    "Define functions:"
   ]
  },
  {
   "cell_type": "code",
   "execution_count": 21,
   "metadata": {},
   "outputs": [],
   "source": [
    "def string_to_array(string):\n",
    "    array=[]\n",
    "    for i in string:\n",
    "        array.append(i)\n",
    "    return array\n",
    "\n",
    "def generate_random_bits(length=8):\n",
    "    binary_string = ''.join(random.choice('01') for _ in range(length))\n",
    "    return string_to_array(binary_string)\n",
    "\n",
    "def generate_random_bases(length=8):\n",
    "    bases_string = ''.join(random.choice('DR') for _ in range(length))\n",
    "    return string_to_array(bases_string)\n",
    "\n",
    "def text_to_binary(text):\n",
    "    binary_string = ''.join(format(ord(char), '08b') for char in text)\n",
    "    return binary_string\n",
    "\n",
    "def binary_to_text(binary_string):\n",
    "    # Split the binary string into 8-bit chunks\n",
    "    binary_chunks = [binary_string[i:i+8] for i in range(0, len(binary_string), 8)]\n",
    "    \n",
    "    # Convert each 8-bit chunk to its decimal equivalent and then to a character\n",
    "    text = ''.join(chr(int(chunk, 2)) for chunk in binary_chunks)\n",
    "    return text"
   ]
  },
  {
   "cell_type": "markdown",
   "metadata": {},
   "source": [
    "Alice & Bob's Properties (Sender & Receiver):"
   ]
  },
  {
   "cell_type": "code",
   "execution_count": 22,
   "metadata": {},
   "outputs": [],
   "source": [
    "#Alice\n",
    "alice_bits=generate_random_bits(16)\n",
    "sending_bases=generate_random_bases(16)\n",
    "\n",
    "#Bob\n",
    "receiving_bases=generate_random_bases(16)"
   ]
  },
  {
   "cell_type": "code",
   "execution_count": 27,
   "metadata": {},
   "outputs": [
    {
     "ename": "SyntaxError",
     "evalue": "unterminated string literal (detected at line 7) (1658646789.py, line 7)",
     "output_type": "error",
     "traceback": [
      "\u001b[1;36m  Cell \u001b[1;32mIn[27], line 7\u001b[1;36m\u001b[0m\n\u001b[1;33m    sending_photons.append(r\"\\\")\u001b[0m\n\u001b[1;37m                           ^\u001b[0m\n\u001b[1;31mSyntaxError\u001b[0m\u001b[1;31m:\u001b[0m unterminated string literal (detected at line 7)\n"
     ]
    }
   ],
   "source": [
    "sending_photons=[]\n",
    "print(sending_bases,alice_bits)\n",
    "for i in range(len(sending_bases)):\n",
    "    if sending_bases[i] == \"D\" and alice_bits[i] == \"0\":\n",
    "        sending_photons.append(\"/\")\n",
    "    elif sending_bases[i] == \"D\" and alice_bits[i] == \"1\":\n",
    "        sending_photons.append(\"\\\")\n",
    "    elif sending_bases[i] == \"R\" and alice_bits[i] == \"0\":\n",
    "        sending_photons.append(\"-\")\n",
    "    elif sending_bases[i] == \"R\" and alice_bits[i] == \"1\":\n",
    "        sending_photons.append(\"|\")\n",
    "    else:\n",
    "        print(\"Error: D, R or 0, 1 are expected\")\n",
    "\n",
    "print(sending_photons)"
   ]
  }
 ],
 "metadata": {
  "kernelspec": {
   "display_name": "Python 3",
   "language": "python",
   "name": "python3"
  },
  "language_info": {
   "codemirror_mode": {
    "name": "ipython",
    "version": 3
   },
   "file_extension": ".py",
   "mimetype": "text/x-python",
   "name": "python",
   "nbconvert_exporter": "python",
   "pygments_lexer": "ipython3",
   "version": "3.11.5"
  },
  "orig_nbformat": 4
 },
 "nbformat": 4,
 "nbformat_minor": 2
}
