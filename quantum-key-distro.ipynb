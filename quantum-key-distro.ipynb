{
 "cells": [
  {
   "cell_type": "markdown",
   "metadata": {},
   "source": [
    "Import packages:"
   ]
  },
  {
   "cell_type": "code",
   "execution_count": 75,
   "metadata": {},
   "outputs": [],
   "source": [
    "import random\n",
    "import matplotlib.pyplot as plt"
   ]
  },
  {
   "cell_type": "markdown",
   "metadata": {},
   "source": [
    "Properties of transaction"
   ]
  },
  {
   "cell_type": "code",
   "execution_count": 76,
   "metadata": {},
   "outputs": [
    {
     "name": "stdout",
     "output_type": "stream",
     "text": [
      "Chance of photon loss on transmission: 25%\n"
     ]
    }
   ],
   "source": [
    "lose_in_tx_chance=input(\"Probability of losing a photon in transmission [%]: \")\n",
    "valid=False\n",
    "while valid == False:\n",
    "    try:\n",
    "        lose_in_tx_chance=int(lose_in_tx_chance)\n",
    "    except:\n",
    "        lose_in_tx_chance=input(\"-----\\nError: Value must be a number\\nProbability of losing a photon in transmission [%]: \")\n",
    "    else:\n",
    "        if lose_in_tx_chance > 100 or lose_in_tx_chance < 0:\n",
    "            lose_in_tx_chance=input(\"-----\\nError: Value must be between 0 and 100\\nProbability of losing a photon in transmission [%]: \")\n",
    "        else:\n",
    "            valid=True\n",
    "print (\"Chance of photon loss on transmission: \"+str(lose_in_tx_chance)+\"%\")"
   ]
  },
  {
   "cell_type": "markdown",
   "metadata": {},
   "source": [
    "Define functions:"
   ]
  },
  {
   "cell_type": "code",
   "execution_count": 77,
   "metadata": {},
   "outputs": [],
   "source": [
    "def string_to_array(string):\n",
    "    array=[]\n",
    "    for i in string:\n",
    "        array.append(i)\n",
    "    return array\n",
    "\n",
    "def generate_random_bits(length=8):\n",
    "    binary_string = ''.join(random.choice('01') for _ in range(length))\n",
    "    return string_to_array(binary_string)\n",
    "\n",
    "def generate_random_bases(length=8):\n",
    "    bases_string = ''.join(random.choice('DR') for _ in range(length))\n",
    "    return string_to_array(bases_string)\n",
    "\n",
    "def text_to_binary(text):\n",
    "    binary_string = ''.join(format(ord(char), '08b') for char in text)\n",
    "    return binary_string\n",
    "\n",
    "def binary_to_text(binary_string):\n",
    "    # Split the binary string into 8-bit chunks\n",
    "    binary_chunks = [binary_string[i:i+8] for i in range(0, len(binary_string), 8)]\n",
    "    # Convert each 8-bit chunk to its decimal equivalent and then to a character\n",
    "    text = ''.join(chr(int(chunk, 2)) for chunk in binary_chunks)\n",
    "    return text\n",
    "\n",
    "def test_percentage(prob):\n",
    "    # generate a random number between 0 and 1\n",
    "    if random.random() < (prob/100):      # if the number is less than 0.25, return true\n",
    "        return True\n",
    "    else:                           # otherwise, return false\n",
    "        return False"
   ]
  },
  {
   "cell_type": "markdown",
   "metadata": {},
   "source": [
    "Alice & Bob's Properties (Sender & Receiver):"
   ]
  },
  {
   "cell_type": "code",
   "execution_count": 78,
   "metadata": {},
   "outputs": [],
   "source": [
    "#Alice\n",
    "alice_bits=generate_random_bits(16)\n",
    "sending_bases=generate_random_bases(16)\n",
    "\n",
    "#Bob\n",
    "receiving_bases=generate_random_bases(16)"
   ]
  },
  {
   "cell_type": "code",
   "execution_count": 79,
   "metadata": {},
   "outputs": [],
   "source": [
    "sending_photons=[]\n",
    "for i in range(len(sending_bases)):\n",
    "    if sending_bases[i] == \"D\" and alice_bits[i] == \"0\":\n",
    "        sending_photons.append(\"/\")\n",
    "    elif sending_bases[i] == \"D\" and alice_bits[i] == \"1\":\n",
    "        sending_photons.append(\"\\\\\")\n",
    "    elif sending_bases[i] == \"R\" and alice_bits[i] == \"0\":\n",
    "        sending_photons.append(\"-\")\n",
    "    elif sending_bases[i] == \"R\" and alice_bits[i] == \"1\":\n",
    "        sending_photons.append(\"|\")\n",
    "    else:\n",
    "        print(\"Error: D, R or 0, 1 are expected\")"
   ]
  },
  {
   "cell_type": "code",
   "execution_count": 84,
   "metadata": {},
   "outputs": [],
   "source": [
    "received_bits=[]\n",
    "for i in range(len(sending_bases)):\n",
    "    if test_percentage(lose_in_tx_chance) == True:\n",
    "        received_bits.append(\" \")\n",
    "    else:\n",
    "        # Incoming: /  (0)\n",
    "        if sending_photons[i] == \"/\":\n",
    "            if receiving_bases[i] == \"D\":\n",
    "                received_bits.append(\"0\")\n",
    "            elif receiving_bases[i] == \"R\":\n",
    "                if test_percentage(50) == True:\n",
    "                    received_bits.append(\"0\")\n",
    "                else:\n",
    "                    received_bits.append(\"1\")\n",
    "            else:\n",
    "                print(\"Error (photon = /):\",receiving_bases[i],\"is not an expected state [D,R] of the random receiving bases\")\n",
    "\n",
    "        # Incoming: \\  (1)\n",
    "        elif sending_photons[i] == \"\\\\\":\n",
    "            if receiving_bases[i] == \"D\":\n",
    "                received_bits.append(\"1\")\n",
    "            elif receiving_bases[i] == \"R\":\n",
    "                if test_percentage(50) == True:\n",
    "                    received_bits.append(\"0\")\n",
    "                else:\n",
    "                    received_bits.append(\"1\")\n",
    "            else:\n",
    "                print(\"Error (photon = \\):\",receiving_bases[i],\"is not an expected state [D,R] of the random receiving bases\")\n",
    "\n",
    "        # Incoming: -  (0)\n",
    "        elif sending_photons[i] == \"-\":\n",
    "            if receiving_bases[i] == \"R\":\n",
    "                received_bits.append(\"0\")\n",
    "            elif receiving_bases[i] == \"D\":\n",
    "                if test_percentage(50) == True:\n",
    "                    received_bits.append(\"0\")\n",
    "                else:\n",
    "                    received_bits.append(\"1\")\n",
    "            else:\n",
    "                print(\"Error (photon = -):\",receiving_bases[i],\"is not an expected state [D,R] of the random receiving bases\")\n",
    "\n",
    "        # Incoming: |  (1)\n",
    "        elif sending_photons[i] == \"|\":\n",
    "            if receiving_bases[i] == \"R\":\n",
    "                received_bits.append(\"1\")\n",
    "            elif receiving_bases[i] == \"D\":\n",
    "                if test_percentage(50) == True:\n",
    "                    received_bits.append(\"0\")\n",
    "                else:\n",
    "                    received_bits.append(\"1\")\n",
    "            else:\n",
    "                print(\"Error (photon = |):\",receiving_bases[i],\"is not an expected state [D,R] of the random receiving bases\")\n",
    "\n",
    "        else:\n",
    "            print(\"Error:\",sending_photons[i],\"is not an expected state [-,|,/,\\\\] of of transmission photons\")"
   ]
  },
  {
   "cell_type": "markdown",
   "metadata": {},
   "source": [
    "Display table"
   ]
  },
  {
   "cell_type": "code",
   "execution_count": 86,
   "metadata": {},
   "outputs": [
    {
     "data": {
      "image/png": "[encoded data removed]",
      "text/plain": [
       "<Figure size 640x480 with 1 Axes>"
      ]
     },
     "metadata": {},
     "output_type": "display_data"
    }
   ],
   "source": [
    "data = [alice_bits,sending_bases,sending_photons,receiving_bases,received_bits]\n",
    "\n",
    "# create a figure and an axes object\n",
    "fig, ax = plt.subplots()\n",
    "\n",
    "# create a table from the data and add it to the axes\n",
    "table = plt.table(cellText=data,\n",
    "                  loc='center',cellLoc='center')\n",
    "\n",
    "# hide the axes ticks and labels\n",
    "ax.axis('off')\n",
    "\n",
    "# show the figure\n",
    "plt.show()\n"
   ]
  }
 ],
 "metadata": {
  "kernelspec": {
   "display_name": "Python 3",
   "language": "python",
   "name": "python3"
  },
  "language_info": {
   "codemirror_mode": {
    "name": "ipython",
    "version": 3
   },
   "file_extension": ".py",
   "mimetype": "text/x-python",
   "name": "python",
   "nbconvert_exporter": "python",
   "pygments_lexer": "ipython3",
   "version": "3.11.6"
  },
  "orig_nbformat": 4
 },
 "nbformat": 4,
 "nbformat_minor": 2
}
